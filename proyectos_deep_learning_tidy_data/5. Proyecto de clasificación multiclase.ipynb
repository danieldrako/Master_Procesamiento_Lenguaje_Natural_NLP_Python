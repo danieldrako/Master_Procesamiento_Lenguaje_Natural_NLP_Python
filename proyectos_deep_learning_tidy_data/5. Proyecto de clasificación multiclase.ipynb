{
 "cells": [
  {
   "cell_type": "markdown",
   "metadata": {},
   "source": [
    "<h1><font color=\"#70b4f1\" size=6>Deep Learning con Python y Keras</font></h1>\n",
    "\n",
    "<h1><font color=\"#70b4f1\" size=5>Parte 3. Multilayer Perceptron</font></h1>\n",
    "\n",
    "<h1><font color=\"#70b4f1\" size=4>5. Proyecto de clasificación multiclase</font></h1>\n",
    "\n",
    "<br><br>\n",
    "<div style=\"text-align: right\">\n",
    "<font color=\"#70b4f1\" size=3>Manuel Castillo Cara</font><br>\n",
    "\n",
    "</div>"
   ]
  },
  {
   "cell_type": "markdown",
   "metadata": {},
   "source": [
    "---\n",
    "\n",
    "<a id=\"indice\"></a>\n",
    "<h2><font color=\"#70b4f1\" size=5>Índice</font></h2>\n",
    "\n",
    "* [0. Contexto](#section0)\n",
    "* [1. Importar clases, funciones y conjunto de datos](#section1)\n",
    "* [2. Codificar la variable de salida](#section2)\n",
    "* [3. Definir la red neuronal](#section3)\n",
    "* [4. Evaluar el modelo](#section4)"
   ]
  },
  {
   "cell_type": "markdown",
   "metadata": {},
   "source": [
    "---\n",
    "<a id=\"section0\"></a>\n",
    "# <font color=\"#70b4f1\" size=6> 0. Contexto</font>"
   ]
  },
  {
   "cell_type": "markdown",
   "metadata": {},
   "source": [
    "En esta lección vamos a desarrollar y evaluar modelos de redes neuronales para problemas de clasificación multiclase. Así, veremos\n",
    "* Cómo preparar datos de clasificación multiclase para modelar con redes neuronales.\n",
    "* Cómo evaluar modelos de redes neuronales de Keras con scikit-learn."
   ]
  },
  {
   "cell_type": "code",
   "execution_count": 1,
   "metadata": {},
   "outputs": [],
   "source": [
    "import tensorflow as tf\n",
    "# Eliminar warning\n",
    "tf.compat.v1.logging.set_verbosity(tf.compat.v1.logging.ERROR)"
   ]
  },
  {
   "cell_type": "markdown",
   "metadata": {},
   "source": [
    "---\n",
    "<div style=\"text-align: right\"> <font size=5> <a href=\"#indice\"><i class=\"fa fa-arrow-circle-up\" aria-hidden=\"true\" style=\"color:#004D7F\"></i></a></font></div>\n",
    "\n",
    "---"
   ]
  },
  {
   "cell_type": "markdown",
   "metadata": {},
   "source": [
    "<a id=\"section1\"></a>\n",
    "# <font color=\"#70b4f1\" size=6>1. Importar clases, funciones y conjunto de datos</font>"
   ]
  },
  {
   "cell_type": "markdown",
   "metadata": {},
   "source": [
    "Primero instalamos scikeras"
   ]
  },
  {
   "cell_type": "code",
   "execution_count": 2,
   "metadata": {},
   "outputs": [
    {
     "name": "stdout",
     "output_type": "stream",
     "text": [
      "Collecting scikeras\n",
      "  Downloading scikeras-0.12.0-py3-none-any.whl.metadata (4.0 kB)\n",
      "Requirement already satisfied: packaging>=0.21 in e:\\users\\1111788\\appdata\\local\\anaconda3\\envs\\deep_learning\\lib\\site-packages (from scikeras) (24.1)\n",
      "Requirement already satisfied: scikit-learn>=1.0.0 in e:\\users\\1111788\\appdata\\local\\anaconda3\\envs\\deep_learning\\lib\\site-packages (from scikeras) (1.3.0)\n",
      "Collecting tensorflow-io-gcs-filesystem<0.32,>=0.23.1 (from scikeras)\n",
      "  Downloading tensorflow_io_gcs_filesystem-0.31.0-cp38-cp38-win_amd64.whl.metadata (14 kB)\n",
      "Requirement already satisfied: numpy>=1.17.3 in e:\\users\\1111788\\appdata\\local\\anaconda3\\envs\\deep_learning\\lib\\site-packages (from scikit-learn>=1.0.0->scikeras) (1.24.3)\n",
      "Requirement already satisfied: scipy>=1.5.0 in e:\\users\\1111788\\appdata\\local\\anaconda3\\envs\\deep_learning\\lib\\site-packages (from scikit-learn>=1.0.0->scikeras) (1.10.1)\n",
      "Requirement already satisfied: joblib>=1.1.1 in e:\\users\\1111788\\appdata\\local\\anaconda3\\envs\\deep_learning\\lib\\site-packages (from scikit-learn>=1.0.0->scikeras) (1.4.2)\n",
      "Requirement already satisfied: threadpoolctl>=2.0.0 in e:\\users\\1111788\\appdata\\local\\anaconda3\\envs\\deep_learning\\lib\\site-packages (from scikit-learn>=1.0.0->scikeras) (3.5.0)\n",
      "Downloading scikeras-0.12.0-py3-none-any.whl (27 kB)\n",
      "Downloading tensorflow_io_gcs_filesystem-0.31.0-cp38-cp38-win_amd64.whl (1.5 MB)\n",
      "   ---------------------------------------- 0.0/1.5 MB ? eta -:--:--\n",
      "   ---------------------------------------- 0.0/1.5 MB ? eta -:--:--\n",
      "    --------------------------------------- 0.0/1.5 MB 660.6 kB/s eta 0:00:03\n",
      "    --------------------------------------- 0.0/1.5 MB 660.6 kB/s eta 0:00:03\n",
      "   - -------------------------------------- 0.1/1.5 MB 363.1 kB/s eta 0:00:04\n",
      "   - -------------------------------------- 0.1/1.5 MB 302.7 kB/s eta 0:00:05\n",
      "   -- ------------------------------------- 0.1/1.5 MB 308.0 kB/s eta 0:00:05\n",
      "   -- ------------------------------------- 0.1/1.5 MB 310.3 kB/s eta 0:00:05\n",
      "   --- ------------------------------------ 0.1/1.5 MB 370.8 kB/s eta 0:00:04\n",
      "   --- ------------------------------------ 0.1/1.5 MB 370.8 kB/s eta 0:00:04\n",
      "   --- ------------------------------------ 0.1/1.5 MB 370.8 kB/s eta 0:00:04\n",
      "   --- ------------------------------------ 0.1/1.5 MB 370.8 kB/s eta 0:00:04\n",
      "   ---- ----------------------------------- 0.2/1.5 MB 308.5 kB/s eta 0:00:05\n",
      "   ----- ---------------------------------- 0.2/1.5 MB 336.6 kB/s eta 0:00:04\n",
      "   ------ --------------------------------- 0.2/1.5 MB 344.1 kB/s eta 0:00:04\n",
      "   ------ --------------------------------- 0.2/1.5 MB 343.4 kB/s eta 0:00:04\n",
      "   ------- -------------------------------- 0.3/1.5 MB 348.8 kB/s eta 0:00:04\n",
      "   ------- -------------------------------- 0.3/1.5 MB 368.6 kB/s eta 0:00:04\n",
      "   -------- ------------------------------- 0.3/1.5 MB 371.0 kB/s eta 0:00:04\n",
      "   --------- ------------------------------ 0.3/1.5 MB 374.5 kB/s eta 0:00:04\n",
      "   --------- ------------------------------ 0.3/1.5 MB 374.5 kB/s eta 0:00:04\n",
      "   --------- ------------------------------ 0.4/1.5 MB 369.9 kB/s eta 0:00:04\n",
      "   ---------- ----------------------------- 0.4/1.5 MB 378.9 kB/s eta 0:00:03\n",
      "   ----------- ---------------------------- 0.4/1.5 MB 380.0 kB/s eta 0:00:03\n",
      "   ----------- ---------------------------- 0.4/1.5 MB 378.6 kB/s eta 0:00:03\n",
      "   ------------ --------------------------- 0.5/1.5 MB 385.9 kB/s eta 0:00:03\n",
      "   ------------ --------------------------- 0.5/1.5 MB 393.2 kB/s eta 0:00:03\n",
      "   ------------- -------------------------- 0.5/1.5 MB 393.2 kB/s eta 0:00:03\n",
      "   -------------- ------------------------- 0.5/1.5 MB 402.7 kB/s eta 0:00:03\n",
      "   -------------- ------------------------- 0.6/1.5 MB 408.7 kB/s eta 0:00:03\n",
      "   --------------- ------------------------ 0.6/1.5 MB 397.5 kB/s eta 0:00:03\n",
      "   --------------- ------------------------ 0.6/1.5 MB 394.7 kB/s eta 0:00:03\n",
      "   --------------- ------------------------ 0.6/1.5 MB 393.3 kB/s eta 0:00:03\n",
      "   ---------------- ----------------------- 0.6/1.5 MB 398.5 kB/s eta 0:00:03\n",
      "   ----------------- ---------------------- 0.6/1.5 MB 391.9 kB/s eta 0:00:03\n",
      "   ----------------- ---------------------- 0.7/1.5 MB 395.7 kB/s eta 0:00:03\n",
      "   ------------------ --------------------- 0.7/1.5 MB 398.1 kB/s eta 0:00:03\n",
      "   ------------------ --------------------- 0.7/1.5 MB 399.1 kB/s eta 0:00:02\n",
      "   ------------------- -------------------- 0.7/1.5 MB 403.7 kB/s eta 0:00:02\n",
      "   ------------------- -------------------- 0.7/1.5 MB 398.9 kB/s eta 0:00:02\n",
      "   -------------------- ------------------- 0.8/1.5 MB 402.1 kB/s eta 0:00:02\n",
      "   --------------------- ------------------ 0.8/1.5 MB 410.2 kB/s eta 0:00:02\n",
      "   ---------------------- ----------------- 0.8/1.5 MB 412.9 kB/s eta 0:00:02\n",
      "   ---------------------- ----------------- 0.8/1.5 MB 410.2 kB/s eta 0:00:02\n",
      "   ----------------------- ---------------- 0.9/1.5 MB 415.2 kB/s eta 0:00:02\n",
      "   ----------------------- ---------------- 0.9/1.5 MB 412.7 kB/s eta 0:00:02\n",
      "   ----------------------- ---------------- 0.9/1.5 MB 402.5 kB/s eta 0:00:02\n",
      "   ----------------------- ---------------- 0.9/1.5 MB 402.5 kB/s eta 0:00:02\n",
      "   ------------------------ --------------- 0.9/1.5 MB 400.5 kB/s eta 0:00:02\n",
      "   ------------------------ --------------- 0.9/1.5 MB 396.8 kB/s eta 0:00:02\n",
      "   ------------------------- -------------- 0.9/1.5 MB 397.5 kB/s eta 0:00:02\n",
      "   ------------------------- -------------- 1.0/1.5 MB 395.8 kB/s eta 0:00:02\n",
      "   ------------------------- -------------- 1.0/1.5 MB 395.8 kB/s eta 0:00:02\n",
      "   -------------------------- ------------- 1.0/1.5 MB 385.0 kB/s eta 0:00:02\n",
      "   -------------------------- ------------- 1.0/1.5 MB 386.0 kB/s eta 0:00:02\n",
      "   --------------------------- ------------ 1.0/1.5 MB 382.9 kB/s eta 0:00:02\n",
      "   --------------------------- ------------ 1.0/1.5 MB 382.9 kB/s eta 0:00:02\n",
      "   --------------------------- ------------ 1.0/1.5 MB 382.9 kB/s eta 0:00:02\n",
      "   --------------------------- ------------ 1.0/1.5 MB 382.9 kB/s eta 0:00:02\n",
      "   --------------------------- ------------ 1.0/1.5 MB 382.9 kB/s eta 0:00:02\n",
      "   --------------------------- ------------ 1.0/1.5 MB 382.9 kB/s eta 0:00:02\n",
      "   --------------------------- ------------ 1.0/1.5 MB 382.9 kB/s eta 0:00:02\n",
      "   --------------------------- ------------ 1.0/1.5 MB 382.9 kB/s eta 0:00:02\n",
      "   --------------------------- ------------ 1.0/1.5 MB 339.7 kB/s eta 0:00:02\n",
      "   --------------------------- ------------ 1.0/1.5 MB 339.7 kB/s eta 0:00:02\n",
      "   ---------------------------- ----------- 1.0/1.5 MB 336.0 kB/s eta 0:00:02\n",
      "   ---------------------------- ----------- 1.1/1.5 MB 332.5 kB/s eta 0:00:02\n",
      "   ---------------------------- ----------- 1.1/1.5 MB 332.5 kB/s eta 0:00:02\n",
      "   ---------------------------- ----------- 1.1/1.5 MB 332.5 kB/s eta 0:00:02\n",
      "   ---------------------------- ----------- 1.1/1.5 MB 332.5 kB/s eta 0:00:02\n",
      "   ---------------------------- ----------- 1.1/1.5 MB 332.5 kB/s eta 0:00:02\n",
      "   ---------------------------- ----------- 1.1/1.5 MB 332.5 kB/s eta 0:00:02\n",
      "   ---------------------------- ----------- 1.1/1.5 MB 332.5 kB/s eta 0:00:02\n",
      "   ---------------------------- ----------- 1.1/1.5 MB 307.0 kB/s eta 0:00:02\n",
      "   ---------------------------- ----------- 1.1/1.5 MB 307.0 kB/s eta 0:00:02\n",
      "   ---------------------------- ----------- 1.1/1.5 MB 307.0 kB/s eta 0:00:02\n",
      "   ---------------------------- ----------- 1.1/1.5 MB 307.0 kB/s eta 0:00:02\n",
      "   ---------------------------- ----------- 1.1/1.5 MB 307.0 kB/s eta 0:00:02\n",
      "   ---------------------------- ----------- 1.1/1.5 MB 307.0 kB/s eta 0:00:02\n",
      "   ---------------------------- ----------- 1.1/1.5 MB 307.0 kB/s eta 0:00:02\n",
      "   ---------------------------- ----------- 1.1/1.5 MB 307.0 kB/s eta 0:00:02\n",
      "   ----------------------------- ---------- 1.1/1.5 MB 280.9 kB/s eta 0:00:02\n",
      "   ----------------------------- ---------- 1.1/1.5 MB 280.9 kB/s eta 0:00:02\n",
      "   ----------------------------- ---------- 1.1/1.5 MB 280.5 kB/s eta 0:00:02\n",
      "   ------------------------------ --------- 1.1/1.5 MB 282.4 kB/s eta 0:00:02\n",
      "   ------------------------------- -------- 1.2/1.5 MB 291.0 kB/s eta 0:00:02\n",
      "   -------------------------------- ------- 1.2/1.5 MB 294.1 kB/s eta 0:00:01\n",
      "   --------------------------------- ------ 1.2/1.5 MB 297.9 kB/s eta 0:00:01\n",
      "   --------------------------------- ------ 1.2/1.5 MB 297.9 kB/s eta 0:00:01\n",
      "   --------------------------------- ------ 1.2/1.5 MB 294.8 kB/s eta 0:00:01\n",
      "   --------------------------------- ------ 1.2/1.5 MB 294.8 kB/s eta 0:00:01\n",
      "   ---------------------------------- ----- 1.3/1.5 MB 295.7 kB/s eta 0:00:01\n",
      "   ---------------------------------- ----- 1.3/1.5 MB 295.7 kB/s eta 0:00:01\n",
      "   ---------------------------------- ----- 1.3/1.5 MB 292.8 kB/s eta 0:00:01\n",
      "   ----------------------------------- ---- 1.3/1.5 MB 295.3 kB/s eta 0:00:01\n",
      "   ------------------------------------ --- 1.4/1.5 MB 301.6 kB/s eta 0:00:01\n",
      "   ------------------------------------- -- 1.4/1.5 MB 300.7 kB/s eta 0:00:01\n",
      "   -------------------------------------- - 1.4/1.5 MB 304.4 kB/s eta 0:00:01\n",
      "   ---------------------------------------  1.5/1.5 MB 309.0 kB/s eta 0:00:01\n",
      "   ---------------------------------------  1.5/1.5 MB 312.5 kB/s eta 0:00:01\n",
      "   ---------------------------------------- 1.5/1.5 MB 310.8 kB/s eta 0:00:00\n",
      "Installing collected packages: tensorflow-io-gcs-filesystem, scikeras\n",
      "Successfully installed scikeras-0.12.0 tensorflow-io-gcs-filesystem-0.31.0\n"
     ]
    },
    {
     "name": "stderr",
     "output_type": "stream",
     "text": [
      "ERROR: pip's dependency resolver does not currently take into account all the packages that are installed. This behaviour is the source of the following dependency conflicts.\n",
      "tensorflow 2.10.0 requires libclang>=13.0.0, which is not installed.\n",
      "tensorflow 2.10.0 requires protobuf<3.20,>=3.9.2, but you have protobuf 3.20.3 which is incompatible.\n"
     ]
    }
   ],
   "source": [
    "!pip install scikeras"
   ]
  },
  {
   "cell_type": "markdown",
   "metadata": {},
   "source": [
    "Podemos comenzar importando todas las clases, funciones y dataset que necesitaremos en este tutorial. "
   ]
  },
  {
   "cell_type": "code",
   "execution_count": 4,
   "metadata": {},
   "outputs": [
    {
     "data": {
      "text/html": [
       "<div>\n",
       "<style scoped>\n",
       "    .dataframe tbody tr th:only-of-type {\n",
       "        vertical-align: middle;\n",
       "    }\n",
       "\n",
       "    .dataframe tbody tr th {\n",
       "        vertical-align: top;\n",
       "    }\n",
       "\n",
       "    .dataframe thead th {\n",
       "        text-align: right;\n",
       "    }\n",
       "</style>\n",
       "<table border=\"1\" class=\"dataframe\">\n",
       "  <thead>\n",
       "    <tr style=\"text-align: right;\">\n",
       "      <th></th>\n",
       "      <th>0</th>\n",
       "      <th>1</th>\n",
       "      <th>2</th>\n",
       "      <th>3</th>\n",
       "      <th>4</th>\n",
       "    </tr>\n",
       "  </thead>\n",
       "  <tbody>\n",
       "    <tr>\n",
       "      <th>0</th>\n",
       "      <td>5.1</td>\n",
       "      <td>3.5</td>\n",
       "      <td>1.4</td>\n",
       "      <td>0.2</td>\n",
       "      <td>Iris-setosa</td>\n",
       "    </tr>\n",
       "    <tr>\n",
       "      <th>1</th>\n",
       "      <td>4.9</td>\n",
       "      <td>3.0</td>\n",
       "      <td>1.4</td>\n",
       "      <td>0.2</td>\n",
       "      <td>Iris-setosa</td>\n",
       "    </tr>\n",
       "    <tr>\n",
       "      <th>2</th>\n",
       "      <td>4.7</td>\n",
       "      <td>3.2</td>\n",
       "      <td>1.3</td>\n",
       "      <td>0.2</td>\n",
       "      <td>Iris-setosa</td>\n",
       "    </tr>\n",
       "    <tr>\n",
       "      <th>3</th>\n",
       "      <td>4.6</td>\n",
       "      <td>3.1</td>\n",
       "      <td>1.5</td>\n",
       "      <td>0.2</td>\n",
       "      <td>Iris-setosa</td>\n",
       "    </tr>\n",
       "    <tr>\n",
       "      <th>4</th>\n",
       "      <td>5.0</td>\n",
       "      <td>3.6</td>\n",
       "      <td>1.4</td>\n",
       "      <td>0.2</td>\n",
       "      <td>Iris-setosa</td>\n",
       "    </tr>\n",
       "    <tr>\n",
       "      <th>...</th>\n",
       "      <td>...</td>\n",
       "      <td>...</td>\n",
       "      <td>...</td>\n",
       "      <td>...</td>\n",
       "      <td>...</td>\n",
       "    </tr>\n",
       "    <tr>\n",
       "      <th>145</th>\n",
       "      <td>6.7</td>\n",
       "      <td>3.0</td>\n",
       "      <td>5.2</td>\n",
       "      <td>2.3</td>\n",
       "      <td>Iris-virginica</td>\n",
       "    </tr>\n",
       "    <tr>\n",
       "      <th>146</th>\n",
       "      <td>6.3</td>\n",
       "      <td>2.5</td>\n",
       "      <td>5.0</td>\n",
       "      <td>1.9</td>\n",
       "      <td>Iris-virginica</td>\n",
       "    </tr>\n",
       "    <tr>\n",
       "      <th>147</th>\n",
       "      <td>6.5</td>\n",
       "      <td>3.0</td>\n",
       "      <td>5.2</td>\n",
       "      <td>2.0</td>\n",
       "      <td>Iris-virginica</td>\n",
       "    </tr>\n",
       "    <tr>\n",
       "      <th>148</th>\n",
       "      <td>6.2</td>\n",
       "      <td>3.4</td>\n",
       "      <td>5.4</td>\n",
       "      <td>2.3</td>\n",
       "      <td>Iris-virginica</td>\n",
       "    </tr>\n",
       "    <tr>\n",
       "      <th>149</th>\n",
       "      <td>5.9</td>\n",
       "      <td>3.0</td>\n",
       "      <td>5.1</td>\n",
       "      <td>1.8</td>\n",
       "      <td>Iris-virginica</td>\n",
       "    </tr>\n",
       "  </tbody>\n",
       "</table>\n",
       "<p>150 rows × 5 columns</p>\n",
       "</div>"
      ],
      "text/plain": [
       "       0    1    2    3               4\n",
       "0    5.1  3.5  1.4  0.2     Iris-setosa\n",
       "1    4.9  3.0  1.4  0.2     Iris-setosa\n",
       "2    4.7  3.2  1.3  0.2     Iris-setosa\n",
       "3    4.6  3.1  1.5  0.2     Iris-setosa\n",
       "4    5.0  3.6  1.4  0.2     Iris-setosa\n",
       "..   ...  ...  ...  ...             ...\n",
       "145  6.7  3.0  5.2  2.3  Iris-virginica\n",
       "146  6.3  2.5  5.0  1.9  Iris-virginica\n",
       "147  6.5  3.0  5.2  2.0  Iris-virginica\n",
       "148  6.2  3.4  5.4  2.3  Iris-virginica\n",
       "149  5.9  3.0  5.1  1.8  Iris-virginica\n",
       "\n",
       "[150 rows x 5 columns]"
      ]
     },
     "execution_count": 4,
     "metadata": {},
     "output_type": "execute_result"
    }
   ],
   "source": [
    "# Multiclass Classification with the Iris Flowers Dataset\n",
    "import pandas as pd\n",
    "from keras.models import Sequential\n",
    "from keras.layers import Dense\n",
    "# La nueva versión keras hay que poner delante \"tensorflow\"\n",
    "from scikeras.wrappers import KerasClassifier\n",
    "# La nueva versión keras has sustituido to_categorical así:\n",
    "from tensorflow.keras.utils import to_categorical\n",
    "from sklearn.model_selection import cross_val_score\n",
    "from sklearn.model_selection import KFold\n",
    "from sklearn.preprocessing import LabelEncoder\n",
    "\n",
    "# load dataset\n",
    "dataframe = pd.read_csv(\"Datasets/iris.csv\",header = None)\n",
    "dataframe"
   ]
  },
  {
   "cell_type": "code",
   "execution_count": 5,
   "metadata": {},
   "outputs": [
    {
     "data": {
      "text/plain": [
       "array([[5.1, 3.5, 1.4, 0.2, 'Iris-setosa'],\n",
       "       [4.9, 3.0, 1.4, 0.2, 'Iris-setosa'],\n",
       "       [4.7, 3.2, 1.3, 0.2, 'Iris-setosa'],\n",
       "       [4.6, 3.1, 1.5, 0.2, 'Iris-setosa'],\n",
       "       [5.0, 3.6, 1.4, 0.2, 'Iris-setosa'],\n",
       "       [5.4, 3.9, 1.7, 0.4, 'Iris-setosa'],\n",
       "       [4.6, 3.4, 1.4, 0.3, 'Iris-setosa'],\n",
       "       [5.0, 3.4, 1.5, 0.2, 'Iris-setosa'],\n",
       "       [4.4, 2.9, 1.4, 0.2, 'Iris-setosa'],\n",
       "       [4.9, 3.1, 1.5, 0.1, 'Iris-setosa'],\n",
       "       [5.4, 3.7, 1.5, 0.2, 'Iris-setosa'],\n",
       "       [4.8, 3.4, 1.6, 0.2, 'Iris-setosa'],\n",
       "       [4.8, 3.0, 1.4, 0.1, 'Iris-setosa'],\n",
       "       [4.3, 3.0, 1.1, 0.1, 'Iris-setosa'],\n",
       "       [5.8, 4.0, 1.2, 0.2, 'Iris-setosa'],\n",
       "       [5.7, 4.4, 1.5, 0.4, 'Iris-setosa'],\n",
       "       [5.4, 3.9, 1.3, 0.4, 'Iris-setosa'],\n",
       "       [5.1, 3.5, 1.4, 0.3, 'Iris-setosa'],\n",
       "       [5.7, 3.8, 1.7, 0.3, 'Iris-setosa'],\n",
       "       [5.1, 3.8, 1.5, 0.3, 'Iris-setosa'],\n",
       "       [5.4, 3.4, 1.7, 0.2, 'Iris-setosa'],\n",
       "       [5.1, 3.7, 1.5, 0.4, 'Iris-setosa'],\n",
       "       [4.6, 3.6, 1.0, 0.2, 'Iris-setosa'],\n",
       "       [5.1, 3.3, 1.7, 0.5, 'Iris-setosa'],\n",
       "       [4.8, 3.4, 1.9, 0.2, 'Iris-setosa'],\n",
       "       [5.0, 3.0, 1.6, 0.2, 'Iris-setosa'],\n",
       "       [5.0, 3.4, 1.6, 0.4, 'Iris-setosa'],\n",
       "       [5.2, 3.5, 1.5, 0.2, 'Iris-setosa'],\n",
       "       [5.2, 3.4, 1.4, 0.2, 'Iris-setosa'],\n",
       "       [4.7, 3.2, 1.6, 0.2, 'Iris-setosa'],\n",
       "       [4.8, 3.1, 1.6, 0.2, 'Iris-setosa'],\n",
       "       [5.4, 3.4, 1.5, 0.4, 'Iris-setosa'],\n",
       "       [5.2, 4.1, 1.5, 0.1, 'Iris-setosa'],\n",
       "       [5.5, 4.2, 1.4, 0.2, 'Iris-setosa'],\n",
       "       [4.9, 3.1, 1.5, 0.1, 'Iris-setosa'],\n",
       "       [5.0, 3.2, 1.2, 0.2, 'Iris-setosa'],\n",
       "       [5.5, 3.5, 1.3, 0.2, 'Iris-setosa'],\n",
       "       [4.9, 3.1, 1.5, 0.1, 'Iris-setosa'],\n",
       "       [4.4, 3.0, 1.3, 0.2, 'Iris-setosa'],\n",
       "       [5.1, 3.4, 1.5, 0.2, 'Iris-setosa'],\n",
       "       [5.0, 3.5, 1.3, 0.3, 'Iris-setosa'],\n",
       "       [4.5, 2.3, 1.3, 0.3, 'Iris-setosa'],\n",
       "       [4.4, 3.2, 1.3, 0.2, 'Iris-setosa'],\n",
       "       [5.0, 3.5, 1.6, 0.6, 'Iris-setosa'],\n",
       "       [5.1, 3.8, 1.9, 0.4, 'Iris-setosa'],\n",
       "       [4.8, 3.0, 1.4, 0.3, 'Iris-setosa'],\n",
       "       [5.1, 3.8, 1.6, 0.2, 'Iris-setosa'],\n",
       "       [4.6, 3.2, 1.4, 0.2, 'Iris-setosa'],\n",
       "       [5.3, 3.7, 1.5, 0.2, 'Iris-setosa'],\n",
       "       [5.0, 3.3, 1.4, 0.2, 'Iris-setosa'],\n",
       "       [7.0, 3.2, 4.7, 1.4, 'Iris-versicolor'],\n",
       "       [6.4, 3.2, 4.5, 1.5, 'Iris-versicolor'],\n",
       "       [6.9, 3.1, 4.9, 1.5, 'Iris-versicolor'],\n",
       "       [5.5, 2.3, 4.0, 1.3, 'Iris-versicolor'],\n",
       "       [6.5, 2.8, 4.6, 1.5, 'Iris-versicolor'],\n",
       "       [5.7, 2.8, 4.5, 1.3, 'Iris-versicolor'],\n",
       "       [6.3, 3.3, 4.7, 1.6, 'Iris-versicolor'],\n",
       "       [4.9, 2.4, 3.3, 1.0, 'Iris-versicolor'],\n",
       "       [6.6, 2.9, 4.6, 1.3, 'Iris-versicolor'],\n",
       "       [5.2, 2.7, 3.9, 1.4, 'Iris-versicolor'],\n",
       "       [5.0, 2.0, 3.5, 1.0, 'Iris-versicolor'],\n",
       "       [5.9, 3.0, 4.2, 1.5, 'Iris-versicolor'],\n",
       "       [6.0, 2.2, 4.0, 1.0, 'Iris-versicolor'],\n",
       "       [6.1, 2.9, 4.7, 1.4, 'Iris-versicolor'],\n",
       "       [5.6, 2.9, 3.6, 1.3, 'Iris-versicolor'],\n",
       "       [6.7, 3.1, 4.4, 1.4, 'Iris-versicolor'],\n",
       "       [5.6, 3.0, 4.5, 1.5, 'Iris-versicolor'],\n",
       "       [5.8, 2.7, 4.1, 1.0, 'Iris-versicolor'],\n",
       "       [6.2, 2.2, 4.5, 1.5, 'Iris-versicolor'],\n",
       "       [5.6, 2.5, 3.9, 1.1, 'Iris-versicolor'],\n",
       "       [5.9, 3.2, 4.8, 1.8, 'Iris-versicolor'],\n",
       "       [6.1, 2.8, 4.0, 1.3, 'Iris-versicolor'],\n",
       "       [6.3, 2.5, 4.9, 1.5, 'Iris-versicolor'],\n",
       "       [6.1, 2.8, 4.7, 1.2, 'Iris-versicolor'],\n",
       "       [6.4, 2.9, 4.3, 1.3, 'Iris-versicolor'],\n",
       "       [6.6, 3.0, 4.4, 1.4, 'Iris-versicolor'],\n",
       "       [6.8, 2.8, 4.8, 1.4, 'Iris-versicolor'],\n",
       "       [6.7, 3.0, 5.0, 1.7, 'Iris-versicolor'],\n",
       "       [6.0, 2.9, 4.5, 1.5, 'Iris-versicolor'],\n",
       "       [5.7, 2.6, 3.5, 1.0, 'Iris-versicolor'],\n",
       "       [5.5, 2.4, 3.8, 1.1, 'Iris-versicolor'],\n",
       "       [5.5, 2.4, 3.7, 1.0, 'Iris-versicolor'],\n",
       "       [5.8, 2.7, 3.9, 1.2, 'Iris-versicolor'],\n",
       "       [6.0, 2.7, 5.1, 1.6, 'Iris-versicolor'],\n",
       "       [5.4, 3.0, 4.5, 1.5, 'Iris-versicolor'],\n",
       "       [6.0, 3.4, 4.5, 1.6, 'Iris-versicolor'],\n",
       "       [6.7, 3.1, 4.7, 1.5, 'Iris-versicolor'],\n",
       "       [6.3, 2.3, 4.4, 1.3, 'Iris-versicolor'],\n",
       "       [5.6, 3.0, 4.1, 1.3, 'Iris-versicolor'],\n",
       "       [5.5, 2.5, 4.0, 1.3, 'Iris-versicolor'],\n",
       "       [5.5, 2.6, 4.4, 1.2, 'Iris-versicolor'],\n",
       "       [6.1, 3.0, 4.6, 1.4, 'Iris-versicolor'],\n",
       "       [5.8, 2.6, 4.0, 1.2, 'Iris-versicolor'],\n",
       "       [5.0, 2.3, 3.3, 1.0, 'Iris-versicolor'],\n",
       "       [5.6, 2.7, 4.2, 1.3, 'Iris-versicolor'],\n",
       "       [5.7, 3.0, 4.2, 1.2, 'Iris-versicolor'],\n",
       "       [5.7, 2.9, 4.2, 1.3, 'Iris-versicolor'],\n",
       "       [6.2, 2.9, 4.3, 1.3, 'Iris-versicolor'],\n",
       "       [5.1, 2.5, 3.0, 1.1, 'Iris-versicolor'],\n",
       "       [5.7, 2.8, 4.1, 1.3, 'Iris-versicolor'],\n",
       "       [6.3, 3.3, 6.0, 2.5, 'Iris-virginica'],\n",
       "       [5.8, 2.7, 5.1, 1.9, 'Iris-virginica'],\n",
       "       [7.1, 3.0, 5.9, 2.1, 'Iris-virginica'],\n",
       "       [6.3, 2.9, 5.6, 1.8, 'Iris-virginica'],\n",
       "       [6.5, 3.0, 5.8, 2.2, 'Iris-virginica'],\n",
       "       [7.6, 3.0, 6.6, 2.1, 'Iris-virginica'],\n",
       "       [4.9, 2.5, 4.5, 1.7, 'Iris-virginica'],\n",
       "       [7.3, 2.9, 6.3, 1.8, 'Iris-virginica'],\n",
       "       [6.7, 2.5, 5.8, 1.8, 'Iris-virginica'],\n",
       "       [7.2, 3.6, 6.1, 2.5, 'Iris-virginica'],\n",
       "       [6.5, 3.2, 5.1, 2.0, 'Iris-virginica'],\n",
       "       [6.4, 2.7, 5.3, 1.9, 'Iris-virginica'],\n",
       "       [6.8, 3.0, 5.5, 2.1, 'Iris-virginica'],\n",
       "       [5.7, 2.5, 5.0, 2.0, 'Iris-virginica'],\n",
       "       [5.8, 2.8, 5.1, 2.4, 'Iris-virginica'],\n",
       "       [6.4, 3.2, 5.3, 2.3, 'Iris-virginica'],\n",
       "       [6.5, 3.0, 5.5, 1.8, 'Iris-virginica'],\n",
       "       [7.7, 3.8, 6.7, 2.2, 'Iris-virginica'],\n",
       "       [7.7, 2.6, 6.9, 2.3, 'Iris-virginica'],\n",
       "       [6.0, 2.2, 5.0, 1.5, 'Iris-virginica'],\n",
       "       [6.9, 3.2, 5.7, 2.3, 'Iris-virginica'],\n",
       "       [5.6, 2.8, 4.9, 2.0, 'Iris-virginica'],\n",
       "       [7.7, 2.8, 6.7, 2.0, 'Iris-virginica'],\n",
       "       [6.3, 2.7, 4.9, 1.8, 'Iris-virginica'],\n",
       "       [6.7, 3.3, 5.7, 2.1, 'Iris-virginica'],\n",
       "       [7.2, 3.2, 6.0, 1.8, 'Iris-virginica'],\n",
       "       [6.2, 2.8, 4.8, 1.8, 'Iris-virginica'],\n",
       "       [6.1, 3.0, 4.9, 1.8, 'Iris-virginica'],\n",
       "       [6.4, 2.8, 5.6, 2.1, 'Iris-virginica'],\n",
       "       [7.2, 3.0, 5.8, 1.6, 'Iris-virginica'],\n",
       "       [7.4, 2.8, 6.1, 1.9, 'Iris-virginica'],\n",
       "       [7.9, 3.8, 6.4, 2.0, 'Iris-virginica'],\n",
       "       [6.4, 2.8, 5.6, 2.2, 'Iris-virginica'],\n",
       "       [6.3, 2.8, 5.1, 1.5, 'Iris-virginica'],\n",
       "       [6.1, 2.6, 5.6, 1.4, 'Iris-virginica'],\n",
       "       [7.7, 3.0, 6.1, 2.3, 'Iris-virginica'],\n",
       "       [6.3, 3.4, 5.6, 2.4, 'Iris-virginica'],\n",
       "       [6.4, 3.1, 5.5, 1.8, 'Iris-virginica'],\n",
       "       [6.0, 3.0, 4.8, 1.8, 'Iris-virginica'],\n",
       "       [6.9, 3.1, 5.4, 2.1, 'Iris-virginica'],\n",
       "       [6.7, 3.1, 5.6, 2.4, 'Iris-virginica'],\n",
       "       [6.9, 3.1, 5.1, 2.3, 'Iris-virginica'],\n",
       "       [5.8, 2.7, 5.1, 1.9, 'Iris-virginica'],\n",
       "       [6.8, 3.2, 5.9, 2.3, 'Iris-virginica'],\n",
       "       [6.7, 3.3, 5.7, 2.5, 'Iris-virginica'],\n",
       "       [6.7, 3.0, 5.2, 2.3, 'Iris-virginica'],\n",
       "       [6.3, 2.5, 5.0, 1.9, 'Iris-virginica'],\n",
       "       [6.5, 3.0, 5.2, 2.0, 'Iris-virginica'],\n",
       "       [6.2, 3.4, 5.4, 2.3, 'Iris-virginica'],\n",
       "       [5.9, 3.0, 5.1, 1.8, 'Iris-virginica']], dtype=object)"
      ]
     },
     "execution_count": 5,
     "metadata": {},
     "output_type": "execute_result"
    }
   ],
   "source": [
    "dataset = dataframe.values\n",
    "dataset"
   ]
  },
  {
   "cell_type": "code",
   "execution_count": 6,
   "metadata": {},
   "outputs": [],
   "source": [
    "X = dataset[:,0:4].astype(float)\n",
    "y = dataset[:,4]"
   ]
  },
  {
   "cell_type": "markdown",
   "metadata": {},
   "source": [
    "<div class=\"alert alert-block alert-info\">\n",
    "    \n",
    "<i class=\"fa fa-info-circle\" aria-hidden=\"true\"></i>\n",
    "Más información sobre el dataset [Iris](https://archive.ics.uci.edu/ml/datasets/Iris)"
   ]
  },
  {
   "cell_type": "markdown",
   "metadata": {},
   "source": [
    "---\n",
    "<div style=\"text-align: right\"> <font size=5> <a href=\"#indice\"><i class=\"fa fa-arrow-circle-up\" aria-hidden=\"true\" style=\"color:#004D7F\"></i></a></font></div>\n",
    "\n",
    "---"
   ]
  },
  {
   "cell_type": "markdown",
   "metadata": {},
   "source": [
    "<a id=\"section2\"></a>\n",
    "# <font color=\"#70b4f1\" size=6>2. Codificar la variable de salida</font>"
   ]
  },
  {
   "cell_type": "markdown",
   "metadata": {},
   "source": [
    "Como tenemos un problema de clasificación multiclase recordemos que debemos de utilizar One-Hot Encoding para poder formatear la salida. \n",
    "\n",
    "Por ejemplo, en este problema los tres valores de clase:\n",
    "```\n",
    "    Iris-setosa\n",
    "    Iris-versicolor\n",
    "    Iris-virginica\n",
    "```\n",
    "\n",
    "Por lo que convertimos esta salida en una codificación binaría como:\n",
    "```\n",
    "    Iris-setosa, Iris-versicolor, Iris-virginica\n",
    "        1,             0,              0\n",
    "        0,             1,              0\n",
    "        0,             0,              1\n",
    "```\n",
    "\n",
    "Por tanto, \n",
    "1. Codificando primero las cadenas de manera coherente en números enteros utilizando la clase `LabelEncoder` de scikit-learn. \n",
    "2. Luego, conviertimos el vector de números enteros en One-Hot Enconding usando la función de Keras `to_categorical()`."
   ]
  },
  {
   "cell_type": "code",
   "execution_count": 10,
   "metadata": {},
   "outputs": [
    {
     "name": "stdout",
     "output_type": "stream",
     "text": [
      "[0 0 0 0 0 0 0 0 0 0 0 0 0 0 0 0 0 0 0 0 0 0 0 0 0 0 0 0 0 0 0 0 0 0 0 0 0\n",
      " 0 0 0 0 0 0 0 0 0 0 0 0 0 1 1 1 1 1 1 1 1 1 1 1 1 1 1 1 1 1 1 1 1 1 1 1 1\n",
      " 1 1 1 1 1 1 1 1 1 1 1 1 1 1 1 1 1 1 1 1 1 1 1 1 1 1 2 2 2 2 2 2 2 2 2 2 2\n",
      " 2 2 2 2 2 2 2 2 2 2 2 2 2 2 2 2 2 2 2 2 2 2 2 2 2 2 2 2 2 2 2 2 2 2 2 2 2\n",
      " 2 2]\n",
      "[[1. 0. 0.]\n",
      " [1. 0. 0.]\n",
      " [1. 0. 0.]\n",
      " [1. 0. 0.]\n",
      " [1. 0. 0.]]\n"
     ]
    }
   ],
   "source": [
    "# encode class values as integers\n",
    "encoder = LabelEncoder()\n",
    "encoder.fit(y)\n",
    "encoded_y = encoder.transform(y)\n",
    "print(encoded_y)\n",
    "\n",
    "# convert integers to dummy variables (i.e. one hot encoded)\n",
    "# Ya no hay que poner el np_utils, la nueva versión es así\n",
    "dummy_y = to_categorical(encoded_y)\n",
    "print(dummy_y[0:5])"
   ]
  },
  {
   "cell_type": "markdown",
   "metadata": {},
   "source": [
    "---\n",
    "<div style=\"text-align: right\"> <font size=5> <a href=\"#indice\"><i class=\"fa fa-arrow-circle-up\" aria-hidden=\"true\" style=\"color:#004D7F\"></i></a></font></div>\n",
    "\n",
    "---"
   ]
  },
  {
   "cell_type": "markdown",
   "metadata": {},
   "source": [
    "<a id=\"section3\"></a>\n",
    "# <font color=\"#70b4f1\" size=6>3. Definir la red neuronal</font>"
   ]
  },
  {
   "cell_type": "markdown",
   "metadata": {},
   "source": [
    "A continuación se muestra el procedimiento a la hora de crear la función a trabajar:\n",
    "1. Crea una red simple completamente conectada con una capa oculta de 8 neuronas. \n",
    "2. La capa oculta utiliza una función de activación ReLu. \n",
    "3. Debido a que utilizamos One-Hot Encoding, la capa de salida debe crear 3 valores de salida, uno para cada clase. \n",
    "4. El valor de salida con el valor más grande se tomará como la clase predicha por el modelo. La topología quedaría así:\n",
    "```\n",
    "    4 inputs -> [8 hidden nodes] -> 3 outputs\n",
    "```\n",
    "5. Tendremos una función de activación Softmax en la capa de salida. \n",
    "6. Finalmente, la red utiliza Adam con una función de pérdida logarítmica (`categorical_crossentropy`)."
   ]
  },
  {
   "cell_type": "code",
   "execution_count": 6,
   "metadata": {},
   "outputs": [],
   "source": [
    "# define baseline model\n",
    "def baseline_model():\n",
    "    # create model\n",
    "    ???\n",
    "    \n",
    "    # Compile model\n",
    "    ???"
   ]
  },
  {
   "cell_type": "markdown",
   "metadata": {},
   "source": [
    "Ahora podemos crear nuestro `KerasClassifier` para usarlo en scikit-learn. \n",
    "\n",
    "Aquí, pasamos el número de épocas como 200 y el tamaño de batch como 5 para usar al entrenar el modelo. "
   ]
  },
  {
   "cell_type": "code",
   "execution_count": 7,
   "metadata": {},
   "outputs": [],
   "source": [
    "???"
   ]
  },
  {
   "cell_type": "markdown",
   "metadata": {},
   "source": [
    "<a id=\"section4\"></a>\n",
    "# <font color=\"#70b4f1\" size=6>4. Evaluar el modelo</font>"
   ]
  },
  {
   "cell_type": "markdown",
   "metadata": {},
   "source": [
    "Ahora podemos evaluar nuestro modelo _(estimator)_ en nuestro conjunto de datos (`X` e `dummy_y`). Utilizando un procedimiento de validación cruzada de 10 veces (`kfold`)"
   ]
  },
  {
   "cell_type": "code",
   "execution_count": 8,
   "metadata": {
    "scrolled": true
   },
   "outputs": [
    {
     "name": "stdout",
     "output_type": "stream",
     "text": [
      "WARNING:tensorflow:5 out of the last 13 calls to <function Model.make_test_function.<locals>.test_function at 0x7fef1c7c56a8> triggered tf.function retracing. Tracing is expensive and the excessive number of tracings could be due to (1) creating @tf.function repeatedly in a loop, (2) passing tensors with different shapes, (3) passing Python objects instead of tensors. For (1), please define your @tf.function outside of the loop. For (2), @tf.function has experimental_relax_shapes=True option that relaxes argument shapes that can avoid unnecessary retracing. For (3), please refer to https://www.tensorflow.org/tutorials/customization/performance#python_or_tensor_args and https://www.tensorflow.org/api_docs/python/tf/function for  more details.\n",
      "WARNING:tensorflow:5 out of the last 13 calls to <function Model.make_test_function.<locals>.test_function at 0x7fef1c6c22f0> triggered tf.function retracing. Tracing is expensive and the excessive number of tracings could be due to (1) creating @tf.function repeatedly in a loop, (2) passing tensors with different shapes, (3) passing Python objects instead of tensors. For (1), please define your @tf.function outside of the loop. For (2), @tf.function has experimental_relax_shapes=True option that relaxes argument shapes that can avoid unnecessary retracing. For (3), please refer to https://www.tensorflow.org/tutorials/customization/performance#python_or_tensor_args and https://www.tensorflow.org/api_docs/python/tf/function for  more details.\n",
      "WARNING:tensorflow:5 out of the last 13 calls to <function Model.make_test_function.<locals>.test_function at 0x7fef1c6b2d08> triggered tf.function retracing. Tracing is expensive and the excessive number of tracings could be due to (1) creating @tf.function repeatedly in a loop, (2) passing tensors with different shapes, (3) passing Python objects instead of tensors. For (1), please define your @tf.function outside of the loop. For (2), @tf.function has experimental_relax_shapes=True option that relaxes argument shapes that can avoid unnecessary retracing. For (3), please refer to https://www.tensorflow.org/tutorials/customization/performance#python_or_tensor_args and https://www.tensorflow.org/api_docs/python/tf/function for  more details.\n",
      "WARNING:tensorflow:5 out of the last 13 calls to <function Model.make_test_function.<locals>.test_function at 0x7fef1c544ae8> triggered tf.function retracing. Tracing is expensive and the excessive number of tracings could be due to (1) creating @tf.function repeatedly in a loop, (2) passing tensors with different shapes, (3) passing Python objects instead of tensors. For (1), please define your @tf.function outside of the loop. For (2), @tf.function has experimental_relax_shapes=True option that relaxes argument shapes that can avoid unnecessary retracing. For (3), please refer to https://www.tensorflow.org/tutorials/customization/performance#python_or_tensor_args and https://www.tensorflow.org/api_docs/python/tf/function for  more details.\n",
      "WARNING:tensorflow:5 out of the last 13 calls to <function Model.make_test_function.<locals>.test_function at 0x7fef1c407730> triggered tf.function retracing. Tracing is expensive and the excessive number of tracings could be due to (1) creating @tf.function repeatedly in a loop, (2) passing tensors with different shapes, (3) passing Python objects instead of tensors. For (1), please define your @tf.function outside of the loop. For (2), @tf.function has experimental_relax_shapes=True option that relaxes argument shapes that can avoid unnecessary retracing. For (3), please refer to https://www.tensorflow.org/tutorials/customization/performance#python_or_tensor_args and https://www.tensorflow.org/api_docs/python/tf/function for  more details.\n",
      "WARNING:tensorflow:5 out of the last 13 calls to <function Model.make_test_function.<locals>.test_function at 0x7fef1c2d9378> triggered tf.function retracing. Tracing is expensive and the excessive number of tracings could be due to (1) creating @tf.function repeatedly in a loop, (2) passing tensors with different shapes, (3) passing Python objects instead of tensors. For (1), please define your @tf.function outside of the loop. For (2), @tf.function has experimental_relax_shapes=True option that relaxes argument shapes that can avoid unnecessary retracing. For (3), please refer to https://www.tensorflow.org/tutorials/customization/performance#python_or_tensor_args and https://www.tensorflow.org/api_docs/python/tf/function for  more details.\n",
      "Accuracy: 97.33% (4.42%)\n"
     ]
    }
   ],
   "source": [
    "???"
   ]
  },
  {
   "cell_type": "markdown",
   "metadata": {},
   "source": [
    "<div style=\"text-align: right\"> <font size=5> <a href=\"#indice\"><i class=\"fa fa-arrow-circle-up\" aria-hidden=\"true\" style=\"color:#004D7F\"></i></a></font></div>\n",
    "\n",
    "---\n",
    "\n",
    "<div style=\"text-align: right\"> <font size=6><i class=\"fa fa-coffee\" aria-hidden=\"true\" style=\"color:#004D7F\"></i> </font></div>"
   ]
  }
 ],
 "metadata": {
  "kernelspec": {
   "display_name": "Python 3 (ipykernel)",
   "language": "python",
   "name": "python3"
  },
  "language_info": {
   "codemirror_mode": {
    "name": "ipython",
    "version": 3
   },
   "file_extension": ".py",
   "mimetype": "text/x-python",
   "name": "python",
   "nbconvert_exporter": "python",
   "pygments_lexer": "ipython3",
   "version": "3.8.18"
  }
 },
 "nbformat": 4,
 "nbformat_minor": 2
}
